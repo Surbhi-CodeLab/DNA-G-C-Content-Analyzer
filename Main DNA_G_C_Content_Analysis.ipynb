{
  "nbformat": 4,
  "nbformat_minor": 0,
  "metadata": {
    "colab": {
      "provenance": []
    },
    "kernelspec": {
      "name": "python3",
      "display_name": "Python 3"
    },
    "language_info": {
      "name": "python"
    },
    "widgets": {
      "application/vnd.jupyter.widget-state+json": {
        "1bd8b5251c5546b9a9dc2587b31df3c5": {
          "model_module": "@jupyter-widgets/controls",
          "model_name": "HBoxModel",
          "model_module_version": "1.5.0",
          "state": {
            "_dom_classes": [],
            "_model_module": "@jupyter-widgets/controls",
            "_model_module_version": "1.5.0",
            "_model_name": "HBoxModel",
            "_view_count": null,
            "_view_module": "@jupyter-widgets/controls",
            "_view_module_version": "1.5.0",
            "_view_name": "HBoxView",
            "box_style": "",
            "children": [
              "IPY_MODEL_ca1495d9441f4ff78b63d06a1a260f0f",
              "IPY_MODEL_8ada04c4e48e4606a1a381b4d9c97b8b"
            ],
            "layout": "IPY_MODEL_71c59815e35e4936b78412e673f2aa8b"
          }
        },
        "ca1495d9441f4ff78b63d06a1a260f0f": {
          "model_module": "@jupyter-widgets/controls",
          "model_name": "ButtonModel",
          "model_module_version": "1.5.0",
          "state": {
            "_dom_classes": [],
            "_model_module": "@jupyter-widgets/controls",
            "_model_module_version": "1.5.0",
            "_model_name": "ButtonModel",
            "_view_count": null,
            "_view_module": "@jupyter-widgets/controls",
            "_view_module_version": "1.5.0",
            "_view_name": "ButtonView",
            "button_style": "info",
            "description": "FASTA Sequence",
            "disabled": false,
            "icon": "",
            "layout": "IPY_MODEL_5b46ef2f1b0d423bb339ef93e45c8712",
            "style": "IPY_MODEL_4808e7982d704accb98e48542152b65a",
            "tooltip": ""
          }
        },
        "8ada04c4e48e4606a1a381b4d9c97b8b": {
          "model_module": "@jupyter-widgets/controls",
          "model_name": "ButtonModel",
          "model_module_version": "1.5.0",
          "state": {
            "_dom_classes": [],
            "_model_module": "@jupyter-widgets/controls",
            "_model_module_version": "1.5.0",
            "_model_name": "ButtonModel",
            "_view_count": null,
            "_view_module": "@jupyter-widgets/controls",
            "_view_module_version": "1.5.0",
            "_view_name": "ButtonView",
            "button_style": "info",
            "description": "Raw DNA Sequence",
            "disabled": false,
            "icon": "",
            "layout": "IPY_MODEL_4b6b922b800d48a687ea44c3488cad7f",
            "style": "IPY_MODEL_79fa90ba289d4064a1b4f1b5f264a0c6",
            "tooltip": ""
          }
        },
        "71c59815e35e4936b78412e673f2aa8b": {
          "model_module": "@jupyter-widgets/base",
          "model_name": "LayoutModel",
          "model_module_version": "1.2.0",
          "state": {
            "_model_module": "@jupyter-widgets/base",
            "_model_module_version": "1.2.0",
            "_model_name": "LayoutModel",
            "_view_count": null,
            "_view_module": "@jupyter-widgets/base",
            "_view_module_version": "1.2.0",
            "_view_name": "LayoutView",
            "align_content": null,
            "align_items": null,
            "align_self": null,
            "border": null,
            "bottom": null,
            "display": null,
            "flex": null,
            "flex_flow": null,
            "grid_area": null,
            "grid_auto_columns": null,
            "grid_auto_flow": null,
            "grid_auto_rows": null,
            "grid_column": null,
            "grid_gap": null,
            "grid_row": null,
            "grid_template_areas": null,
            "grid_template_columns": null,
            "grid_template_rows": null,
            "height": null,
            "justify_content": null,
            "justify_items": null,
            "left": null,
            "margin": null,
            "max_height": null,
            "max_width": null,
            "min_height": null,
            "min_width": null,
            "object_fit": null,
            "object_position": null,
            "order": null,
            "overflow": null,
            "overflow_x": null,
            "overflow_y": null,
            "padding": null,
            "right": null,
            "top": null,
            "visibility": null,
            "width": null
          }
        },
        "5b46ef2f1b0d423bb339ef93e45c8712": {
          "model_module": "@jupyter-widgets/base",
          "model_name": "LayoutModel",
          "model_module_version": "1.2.0",
          "state": {
            "_model_module": "@jupyter-widgets/base",
            "_model_module_version": "1.2.0",
            "_model_name": "LayoutModel",
            "_view_count": null,
            "_view_module": "@jupyter-widgets/base",
            "_view_module_version": "1.2.0",
            "_view_name": "LayoutView",
            "align_content": null,
            "align_items": null,
            "align_self": null,
            "border": null,
            "bottom": null,
            "display": null,
            "flex": null,
            "flex_flow": null,
            "grid_area": null,
            "grid_auto_columns": null,
            "grid_auto_flow": null,
            "grid_auto_rows": null,
            "grid_column": null,
            "grid_gap": null,
            "grid_row": null,
            "grid_template_areas": null,
            "grid_template_columns": null,
            "grid_template_rows": null,
            "height": null,
            "justify_content": null,
            "justify_items": null,
            "left": null,
            "margin": null,
            "max_height": null,
            "max_width": null,
            "min_height": null,
            "min_width": null,
            "object_fit": null,
            "object_position": null,
            "order": null,
            "overflow": null,
            "overflow_x": null,
            "overflow_y": null,
            "padding": null,
            "right": null,
            "top": null,
            "visibility": null,
            "width": null
          }
        },
        "4808e7982d704accb98e48542152b65a": {
          "model_module": "@jupyter-widgets/controls",
          "model_name": "ButtonStyleModel",
          "model_module_version": "1.5.0",
          "state": {
            "_model_module": "@jupyter-widgets/controls",
            "_model_module_version": "1.5.0",
            "_model_name": "ButtonStyleModel",
            "_view_count": null,
            "_view_module": "@jupyter-widgets/base",
            "_view_module_version": "1.2.0",
            "_view_name": "StyleView",
            "button_color": null,
            "font_weight": ""
          }
        },
        "4b6b922b800d48a687ea44c3488cad7f": {
          "model_module": "@jupyter-widgets/base",
          "model_name": "LayoutModel",
          "model_module_version": "1.2.0",
          "state": {
            "_model_module": "@jupyter-widgets/base",
            "_model_module_version": "1.2.0",
            "_model_name": "LayoutModel",
            "_view_count": null,
            "_view_module": "@jupyter-widgets/base",
            "_view_module_version": "1.2.0",
            "_view_name": "LayoutView",
            "align_content": null,
            "align_items": null,
            "align_self": null,
            "border": null,
            "bottom": null,
            "display": null,
            "flex": null,
            "flex_flow": null,
            "grid_area": null,
            "grid_auto_columns": null,
            "grid_auto_flow": null,
            "grid_auto_rows": null,
            "grid_column": null,
            "grid_gap": null,
            "grid_row": null,
            "grid_template_areas": null,
            "grid_template_columns": null,
            "grid_template_rows": null,
            "height": null,
            "justify_content": null,
            "justify_items": null,
            "left": null,
            "margin": null,
            "max_height": null,
            "max_width": null,
            "min_height": null,
            "min_width": null,
            "object_fit": null,
            "object_position": null,
            "order": null,
            "overflow": null,
            "overflow_x": null,
            "overflow_y": null,
            "padding": null,
            "right": null,
            "top": null,
            "visibility": null,
            "width": null
          }
        },
        "79fa90ba289d4064a1b4f1b5f264a0c6": {
          "model_module": "@jupyter-widgets/controls",
          "model_name": "ButtonStyleModel",
          "model_module_version": "1.5.0",
          "state": {
            "_model_module": "@jupyter-widgets/controls",
            "_model_module_version": "1.5.0",
            "_model_name": "ButtonStyleModel",
            "_view_count": null,
            "_view_module": "@jupyter-widgets/base",
            "_view_module_version": "1.2.0",
            "_view_name": "StyleView",
            "button_color": null,
            "font_weight": ""
          }
        },
        "222f579151084806a0daf8599d1299e8": {
          "model_module": "@jupyter-widgets/output",
          "model_name": "OutputModel",
          "model_module_version": "1.0.0",
          "state": {
            "_dom_classes": [],
            "_model_module": "@jupyter-widgets/output",
            "_model_module_version": "1.0.0",
            "_model_name": "OutputModel",
            "_view_count": null,
            "_view_module": "@jupyter-widgets/output",
            "_view_module_version": "1.0.0",
            "_view_name": "OutputView",
            "layout": "IPY_MODEL_e1ef34c0f6cd4bbeba2a7830c19f0e52",
            "msg_id": "",
            "outputs": [
              {
                "output_type": "display_data",
                "data": {
                  "text/plain": "Textarea(value='', description='DNA Seq:', layout=Layout(height='100px', width='100%'), placeholder='Enter raw…",
                  "application/vnd.jupyter.widget-view+json": {
                    "version_major": 2,
                    "version_minor": 0,
                    "model_id": "e835d4b2ac3446b4817bc15cdad64d60"
                  }
                },
                "metadata": {}
              }
            ]
          }
        },
        "e1ef34c0f6cd4bbeba2a7830c19f0e52": {
          "model_module": "@jupyter-widgets/base",
          "model_name": "LayoutModel",
          "model_module_version": "1.2.0",
          "state": {
            "_model_module": "@jupyter-widgets/base",
            "_model_module_version": "1.2.0",
            "_model_name": "LayoutModel",
            "_view_count": null,
            "_view_module": "@jupyter-widgets/base",
            "_view_module_version": "1.2.0",
            "_view_name": "LayoutView",
            "align_content": null,
            "align_items": null,
            "align_self": null,
            "border": null,
            "bottom": null,
            "display": null,
            "flex": null,
            "flex_flow": null,
            "grid_area": null,
            "grid_auto_columns": null,
            "grid_auto_flow": null,
            "grid_auto_rows": null,
            "grid_column": null,
            "grid_gap": null,
            "grid_row": null,
            "grid_template_areas": null,
            "grid_template_columns": null,
            "grid_template_rows": null,
            "height": null,
            "justify_content": null,
            "justify_items": null,
            "left": null,
            "margin": null,
            "max_height": null,
            "max_width": null,
            "min_height": null,
            "min_width": null,
            "object_fit": null,
            "object_position": null,
            "order": null,
            "overflow": null,
            "overflow_x": null,
            "overflow_y": null,
            "padding": null,
            "right": null,
            "top": null,
            "visibility": null,
            "width": null
          }
        },
        "91d9298c49214ff3803d807031289c74": {
          "model_module": "@jupyter-widgets/controls",
          "model_name": "ButtonModel",
          "model_module_version": "1.5.0",
          "state": {
            "_dom_classes": [],
            "_model_module": "@jupyter-widgets/controls",
            "_model_module_version": "1.5.0",
            "_model_name": "ButtonModel",
            "_view_count": null,
            "_view_module": "@jupyter-widgets/controls",
            "_view_module_version": "1.5.0",
            "_view_name": "ButtonView",
            "button_style": "success",
            "description": "Analyze",
            "disabled": false,
            "icon": "",
            "layout": "IPY_MODEL_1ee44578de0147ab93bb2c2e6ed42fe0",
            "style": "IPY_MODEL_21d9aa18f76d48d99554fcb32fbe9c5c",
            "tooltip": ""
          }
        },
        "1ee44578de0147ab93bb2c2e6ed42fe0": {
          "model_module": "@jupyter-widgets/base",
          "model_name": "LayoutModel",
          "model_module_version": "1.2.0",
          "state": {
            "_model_module": "@jupyter-widgets/base",
            "_model_module_version": "1.2.0",
            "_model_name": "LayoutModel",
            "_view_count": null,
            "_view_module": "@jupyter-widgets/base",
            "_view_module_version": "1.2.0",
            "_view_name": "LayoutView",
            "align_content": null,
            "align_items": null,
            "align_self": null,
            "border": null,
            "bottom": null,
            "display": null,
            "flex": null,
            "flex_flow": null,
            "grid_area": null,
            "grid_auto_columns": null,
            "grid_auto_flow": null,
            "grid_auto_rows": null,
            "grid_column": null,
            "grid_gap": null,
            "grid_row": null,
            "grid_template_areas": null,
            "grid_template_columns": null,
            "grid_template_rows": null,
            "height": null,
            "justify_content": null,
            "justify_items": null,
            "left": null,
            "margin": null,
            "max_height": null,
            "max_width": null,
            "min_height": null,
            "min_width": null,
            "object_fit": null,
            "object_position": null,
            "order": null,
            "overflow": null,
            "overflow_x": null,
            "overflow_y": null,
            "padding": null,
            "right": null,
            "top": null,
            "visibility": null,
            "width": null
          }
        },
        "21d9aa18f76d48d99554fcb32fbe9c5c": {
          "model_module": "@jupyter-widgets/controls",
          "model_name": "ButtonStyleModel",
          "model_module_version": "1.5.0",
          "state": {
            "_model_module": "@jupyter-widgets/controls",
            "_model_module_version": "1.5.0",
            "_model_name": "ButtonStyleModel",
            "_view_count": null,
            "_view_module": "@jupyter-widgets/base",
            "_view_module_version": "1.2.0",
            "_view_name": "StyleView",
            "button_color": null,
            "font_weight": ""
          }
        },
        "12803318f2da48b4873fdb016ca968ec": {
          "model_module": "@jupyter-widgets/controls",
          "model_name": "ButtonModel",
          "model_module_version": "1.5.0",
          "state": {
            "_dom_classes": [],
            "_model_module": "@jupyter-widgets/controls",
            "_model_module_version": "1.5.0",
            "_model_name": "ButtonModel",
            "_view_count": null,
            "_view_module": "@jupyter-widgets/controls",
            "_view_module_version": "1.5.0",
            "_view_name": "ButtonView",
            "button_style": "warning",
            "description": "Download CSV",
            "disabled": false,
            "icon": "",
            "layout": "IPY_MODEL_332e41724ba84515b1021f67537bc5b5",
            "style": "IPY_MODEL_a4b38d9b620c4d60b18ff31b509b813a",
            "tooltip": ""
          }
        },
        "332e41724ba84515b1021f67537bc5b5": {
          "model_module": "@jupyter-widgets/base",
          "model_name": "LayoutModel",
          "model_module_version": "1.2.0",
          "state": {
            "_model_module": "@jupyter-widgets/base",
            "_model_module_version": "1.2.0",
            "_model_name": "LayoutModel",
            "_view_count": null,
            "_view_module": "@jupyter-widgets/base",
            "_view_module_version": "1.2.0",
            "_view_name": "LayoutView",
            "align_content": null,
            "align_items": null,
            "align_self": null,
            "border": null,
            "bottom": null,
            "display": null,
            "flex": null,
            "flex_flow": null,
            "grid_area": null,
            "grid_auto_columns": null,
            "grid_auto_flow": null,
            "grid_auto_rows": null,
            "grid_column": null,
            "grid_gap": null,
            "grid_row": null,
            "grid_template_areas": null,
            "grid_template_columns": null,
            "grid_template_rows": null,
            "height": null,
            "justify_content": null,
            "justify_items": null,
            "left": null,
            "margin": null,
            "max_height": null,
            "max_width": null,
            "min_height": null,
            "min_width": null,
            "object_fit": null,
            "object_position": null,
            "order": null,
            "overflow": null,
            "overflow_x": null,
            "overflow_y": null,
            "padding": null,
            "right": null,
            "top": null,
            "visibility": null,
            "width": null
          }
        },
        "a4b38d9b620c4d60b18ff31b509b813a": {
          "model_module": "@jupyter-widgets/controls",
          "model_name": "ButtonStyleModel",
          "model_module_version": "1.5.0",
          "state": {
            "_model_module": "@jupyter-widgets/controls",
            "_model_module_version": "1.5.0",
            "_model_name": "ButtonStyleModel",
            "_view_count": null,
            "_view_module": "@jupyter-widgets/base",
            "_view_module_version": "1.2.0",
            "_view_name": "StyleView",
            "button_color": null,
            "font_weight": ""
          }
        },
        "e441524225de4ee2b240adc6aa203d84": {
          "model_module": "@jupyter-widgets/output",
          "model_name": "OutputModel",
          "model_module_version": "1.0.0",
          "state": {
            "_dom_classes": [],
            "_model_module": "@jupyter-widgets/output",
            "_model_module_version": "1.0.0",
            "_model_name": "OutputModel",
            "_view_count": null,
            "_view_module": "@jupyter-widgets/output",
            "_view_module_version": "1.0.0",
            "_view_name": "OutputView",
            "layout": "IPY_MODEL_43cfab796dce45c680d90b06ce27f1f5",
            "msg_id": "",
            "outputs": [
              {
                "output_type": "display_data",
                "data": {
                  "text/plain": "           ID  Total Length  Unknown Nucleotide (N)  GC Content (%)  \\\n0  User_Input            23                       0           34.78   \n\n  Melting Temp(°C)   A  T  G  C  \n0        Not Valid  11  4  4  4  ",
                  "text/html": "\n  <div id=\"df-aec46f68-6466-498f-906a-8a983603c098\" class=\"colab-df-container\">\n    <div>\n<style scoped>\n    .dataframe tbody tr th:only-of-type {\n        vertical-align: middle;\n    }\n\n    .dataframe tbody tr th {\n        vertical-align: top;\n    }\n\n    .dataframe thead th {\n        text-align: right;\n    }\n</style>\n<table border=\"1\" class=\"dataframe\">\n  <thead>\n    <tr style=\"text-align: right;\">\n      <th></th>\n      <th>ID</th>\n      <th>Total Length</th>\n      <th>Unknown Nucleotide (N)</th>\n      <th>GC Content (%)</th>\n      <th>Melting Temp(°C)</th>\n      <th>A</th>\n      <th>T</th>\n      <th>G</th>\n      <th>C</th>\n    </tr>\n  </thead>\n  <tbody>\n    <tr>\n      <th>0</th>\n      <td>User_Input</td>\n      <td>23</td>\n      <td>0</td>\n      <td>34.78</td>\n      <td>Not Valid</td>\n      <td>11</td>\n      <td>4</td>\n      <td>4</td>\n      <td>4</td>\n    </tr>\n  </tbody>\n</table>\n</div>\n    <div class=\"colab-df-buttons\">\n\n  <div class=\"colab-df-container\">\n    <button class=\"colab-df-convert\" onclick=\"convertToInteractive('df-aec46f68-6466-498f-906a-8a983603c098')\"\n            title=\"Convert this dataframe to an interactive table.\"\n            style=\"display:none;\">\n\n  <svg xmlns=\"http://www.w3.org/2000/svg\" height=\"24px\" viewBox=\"0 -960 960 960\">\n    <path d=\"M120-120v-720h720v720H120Zm60-500h600v-160H180v160Zm220 220h160v-160H400v160Zm0 220h160v-160H400v160ZM180-400h160v-160H180v160Zm440 0h160v-160H620v160ZM180-180h160v-160H180v160Zm440 0h160v-160H620v160Z\"/>\n  </svg>\n    </button>\n\n  <style>\n    .colab-df-container {\n      display:flex;\n      gap: 12px;\n    }\n\n    .colab-df-convert {\n      background-color: #E8F0FE;\n      border: none;\n      border-radius: 50%;\n      cursor: pointer;\n      display: none;\n      fill: #1967D2;\n      height: 32px;\n      padding: 0 0 0 0;\n      width: 32px;\n    }\n\n    .colab-df-convert:hover {\n      background-color: #E2EBFA;\n      box-shadow: 0px 1px 2px rgba(60, 64, 67, 0.3), 0px 1px 3px 1px rgba(60, 64, 67, 0.15);\n      fill: #174EA6;\n    }\n\n    .colab-df-buttons div {\n      margin-bottom: 4px;\n    }\n\n    [theme=dark] .colab-df-convert {\n      background-color: #3B4455;\n      fill: #D2E3FC;\n    }\n\n    [theme=dark] .colab-df-convert:hover {\n      background-color: #434B5C;\n      box-shadow: 0px 1px 3px 1px rgba(0, 0, 0, 0.15);\n      filter: drop-shadow(0px 1px 2px rgba(0, 0, 0, 0.3));\n      fill: #FFFFFF;\n    }\n  </style>\n\n    <script>\n      const buttonEl =\n        document.querySelector('#df-aec46f68-6466-498f-906a-8a983603c098 button.colab-df-convert');\n      buttonEl.style.display =\n        google.colab.kernel.accessAllowed ? 'block' : 'none';\n\n      async function convertToInteractive(key) {\n        const element = document.querySelector('#df-aec46f68-6466-498f-906a-8a983603c098');\n        const dataTable =\n          await google.colab.kernel.invokeFunction('convertToInteractive',\n                                                    [key], {});\n        if (!dataTable) return;\n\n        const docLinkHtml = 'Like what you see? Visit the ' +\n          '<a target=\"_blank\" href=https://colab.research.google.com/notebooks/data_table.ipynb>data table notebook</a>'\n          + ' to learn more about interactive tables.';\n        element.innerHTML = '';\n        dataTable['output_type'] = 'display_data';\n        await google.colab.output.renderOutput(dataTable, element);\n        const docLink = document.createElement('div');\n        docLink.innerHTML = docLinkHtml;\n        element.appendChild(docLink);\n      }\n    </script>\n  </div>\n\n\n    </div>\n  </div>\n",
                  "application/vnd.google.colaboratory.intrinsic+json": {
                    "type": "dataframe",
                    "summary": "{\n  \"name\": \"display(analysis_output)\",\n  \"rows\": 1,\n  \"fields\": [\n    {\n      \"column\": \"ID\",\n      \"properties\": {\n        \"dtype\": \"string\",\n        \"num_unique_values\": 1,\n        \"samples\": [\n          \"User_Input\"\n        ],\n        \"semantic_type\": \"\",\n        \"description\": \"\"\n      }\n    },\n    {\n      \"column\": \"Total Length\",\n      \"properties\": {\n        \"dtype\": \"number\",\n        \"std\": null,\n        \"min\": 23,\n        \"max\": 23,\n        \"num_unique_values\": 1,\n        \"samples\": [\n          23\n        ],\n        \"semantic_type\": \"\",\n        \"description\": \"\"\n      }\n    },\n    {\n      \"column\": \"Unknown Nucleotide (N)\",\n      \"properties\": {\n        \"dtype\": \"number\",\n        \"std\": null,\n        \"min\": 0,\n        \"max\": 0,\n        \"num_unique_values\": 1,\n        \"samples\": [\n          0\n        ],\n        \"semantic_type\": \"\",\n        \"description\": \"\"\n      }\n    },\n    {\n      \"column\": \"GC Content (%)\",\n      \"properties\": {\n        \"dtype\": \"number\",\n        \"std\": null,\n        \"min\": 34.78,\n        \"max\": 34.78,\n        \"num_unique_values\": 1,\n        \"samples\": [\n          34.78\n        ],\n        \"semantic_type\": \"\",\n        \"description\": \"\"\n      }\n    },\n    {\n      \"column\": \"Melting Temp(\\u00b0C)\",\n      \"properties\": {\n        \"dtype\": \"string\",\n        \"num_unique_values\": 1,\n        \"samples\": [\n          \"Not Valid\"\n        ],\n        \"semantic_type\": \"\",\n        \"description\": \"\"\n      }\n    },\n    {\n      \"column\": \"A\",\n      \"properties\": {\n        \"dtype\": \"number\",\n        \"std\": null,\n        \"min\": 11,\n        \"max\": 11,\n        \"num_unique_values\": 1,\n        \"samples\": [\n          11\n        ],\n        \"semantic_type\": \"\",\n        \"description\": \"\"\n      }\n    },\n    {\n      \"column\": \"T\",\n      \"properties\": {\n        \"dtype\": \"number\",\n        \"std\": null,\n        \"min\": 4,\n        \"max\": 4,\n        \"num_unique_values\": 1,\n        \"samples\": [\n          4\n        ],\n        \"semantic_type\": \"\",\n        \"description\": \"\"\n      }\n    },\n    {\n      \"column\": \"G\",\n      \"properties\": {\n        \"dtype\": \"number\",\n        \"std\": null,\n        \"min\": 4,\n        \"max\": 4,\n        \"num_unique_values\": 1,\n        \"samples\": [\n          4\n        ],\n        \"semantic_type\": \"\",\n        \"description\": \"\"\n      }\n    },\n    {\n      \"column\": \"C\",\n      \"properties\": {\n        \"dtype\": \"number\",\n        \"std\": null,\n        \"min\": 4,\n        \"max\": 4,\n        \"num_unique_values\": 1,\n        \"samples\": [\n          4\n        ],\n        \"semantic_type\": \"\",\n        \"description\": \"\"\n      }\n    }\n  ]\n}"
                  }
                },
                "metadata": {}
              },
              {
                "output_type": "stream",
                "name": "stdout",
                "text": [
                  "  \n",
                  "Graphical representation of individual nucleotide frequencies in the analyzed DNA sequence: \n",
                  "  \n"
                ]
              },
              {
                "output_type": "display_data",
                "data": {
                  "text/plain": "<Figure size 600x500 with 1 Axes>",
                  "image/png": "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\n"
                },
                "metadata": {}
              }
            ]
          }
        },
        "43cfab796dce45c680d90b06ce27f1f5": {
          "model_module": "@jupyter-widgets/base",
          "model_name": "LayoutModel",
          "model_module_version": "1.2.0",
          "state": {
            "_model_module": "@jupyter-widgets/base",
            "_model_module_version": "1.2.0",
            "_model_name": "LayoutModel",
            "_view_count": null,
            "_view_module": "@jupyter-widgets/base",
            "_view_module_version": "1.2.0",
            "_view_name": "LayoutView",
            "align_content": null,
            "align_items": null,
            "align_self": null,
            "border": null,
            "bottom": null,
            "display": null,
            "flex": null,
            "flex_flow": null,
            "grid_area": null,
            "grid_auto_columns": null,
            "grid_auto_flow": null,
            "grid_auto_rows": null,
            "grid_column": null,
            "grid_gap": null,
            "grid_row": null,
            "grid_template_areas": null,
            "grid_template_columns": null,
            "grid_template_rows": null,
            "height": null,
            "justify_content": null,
            "justify_items": null,
            "left": null,
            "margin": null,
            "max_height": null,
            "max_width": null,
            "min_height": null,
            "min_width": null,
            "object_fit": null,
            "object_position": null,
            "order": null,
            "overflow": null,
            "overflow_x": null,
            "overflow_y": null,
            "padding": null,
            "right": null,
            "top": null,
            "visibility": null,
            "width": null
          }
        },
        "e835d4b2ac3446b4817bc15cdad64d60": {
          "model_module": "@jupyter-widgets/controls",
          "model_name": "TextareaModel",
          "model_module_version": "1.5.0",
          "state": {
            "_dom_classes": [],
            "_model_module": "@jupyter-widgets/controls",
            "_model_module_version": "1.5.0",
            "_model_name": "TextareaModel",
            "_view_count": null,
            "_view_module": "@jupyter-widgets/controls",
            "_view_module_version": "1.5.0",
            "_view_name": "TextareaView",
            "continuous_update": true,
            "description": "DNA Seq:",
            "description_tooltip": null,
            "disabled": false,
            "layout": "IPY_MODEL_7a966ef8485d4e76b2b6b15dcd6da41e",
            "placeholder": "Enter raw DNA sequence here...only one DNA sequence",
            "rows": null,
            "style": "IPY_MODEL_ef42cf3c2c274df2bf7dddf2653cbc30",
            "value": "ATGCCATGCATGCATGAAAAAAA"
          }
        },
        "7a966ef8485d4e76b2b6b15dcd6da41e": {
          "model_module": "@jupyter-widgets/base",
          "model_name": "LayoutModel",
          "model_module_version": "1.2.0",
          "state": {
            "_model_module": "@jupyter-widgets/base",
            "_model_module_version": "1.2.0",
            "_model_name": "LayoutModel",
            "_view_count": null,
            "_view_module": "@jupyter-widgets/base",
            "_view_module_version": "1.2.0",
            "_view_name": "LayoutView",
            "align_content": null,
            "align_items": null,
            "align_self": null,
            "border": null,
            "bottom": null,
            "display": null,
            "flex": null,
            "flex_flow": null,
            "grid_area": null,
            "grid_auto_columns": null,
            "grid_auto_flow": null,
            "grid_auto_rows": null,
            "grid_column": null,
            "grid_gap": null,
            "grid_row": null,
            "grid_template_areas": null,
            "grid_template_columns": null,
            "grid_template_rows": null,
            "height": "100px",
            "justify_content": null,
            "justify_items": null,
            "left": null,
            "margin": null,
            "max_height": null,
            "max_width": null,
            "min_height": null,
            "min_width": null,
            "object_fit": null,
            "object_position": null,
            "order": null,
            "overflow": null,
            "overflow_x": null,
            "overflow_y": null,
            "padding": null,
            "right": null,
            "top": null,
            "visibility": null,
            "width": "100%"
          }
        },
        "ef42cf3c2c274df2bf7dddf2653cbc30": {
          "model_module": "@jupyter-widgets/controls",
          "model_name": "DescriptionStyleModel",
          "model_module_version": "1.5.0",
          "state": {
            "_model_module": "@jupyter-widgets/controls",
            "_model_module_version": "1.5.0",
            "_model_name": "DescriptionStyleModel",
            "_view_count": null,
            "_view_module": "@jupyter-widgets/base",
            "_view_module_version": "1.2.0",
            "_view_name": "StyleView",
            "description_width": ""
          }
        }
      }
    }
  },
  "cells": [
    {
      "cell_type": "markdown",
      "source": [
        "##### 📄 License\n",
        "- This notebook is licensed under the [MIT License](https://opensource.org/licenses/MIT).  \n",
        "- © 2025 Surbhi-CodeLab For more, see the [LICENSE](https://github.com/Surbhi-CodeLab/DNA-G-C-Content-Analyzer/blob/main/LICENSE) file.\n",
        "- Please cite or credit if using or modifying."
      ],
      "metadata": {
        "id": "LGyCBvuUsmIg"
      }
    },
    {
      "cell_type": "markdown",
      "source": [
        "<h1><center><b> DNA G-C Content Analysis </center></b>\n",
        "\n",
        "- GC Content refers to the percentage of nitrogenous bases in a DNA or RNA sequence that are either Guanine (G) or Cytosine (C).\n",
        "\n",
        "- The GC content is calculated using the formula:\n",
        "\n",
        "      [ (G+C)/(A+T+G+C) * 100 ]% #for DNA\n",
        "\n",
        "- It is an important parameter that reflects the stability and structural properties of the nucleic acid, as G-C pairs form three hydrogen bonds (compared to two in A-T pairs), making the DNA more thermally stable.\n",
        "\n",
        "- It also plays a role in gene expression, genome structure, and species evolution.\n",
        "\n",
        "\n",
        "\n",
        "---\n",
        "\n",
        "\n",
        "\n",
        "##Project Overview:\n",
        "In this project, we analyze the GC content of DNA sequences.\n",
        "- The program accepts input in two formats:\n",
        "\n",
        "  1. Single Raw DNA sequence entered as text.\n",
        "  2. FASTA file containing one or more DNA sequences.\n",
        "\n",
        "- It breaks down key statistics like GC content and shows the results in easy-to-understand tables and graphs, making the data much easier to interpret and visualize.\n",
        "\n",
        "- It also filters out any unknown nucleotides represented by 'N' from the DNA sequence before analysis.\n",
        "\n",
        "\n",
        "\n",
        "\n",
        "---\n",
        "\n",
        "\n",
        "\n",
        "\n"
      ],
      "metadata": {
        "id": "fdLapN-ZoYOI"
      }
    },
    {
      "cell_type": "markdown",
      "source": [
        "###Important Note:\n",
        "- For optimal results, it's recommended to use the \"Run All\" option to execute the entire notebook. This ensures that all interdependent cells are executed in the correct order, and the final output is displayed seamlessly at the end.\n",
        "\n",
        "---\n"
      ],
      "metadata": {
        "id": "faFdJnCqXgve"
      }
    },
    {
      "cell_type": "markdown",
      "source": [
        "1. Starting Cell -  Install and import required packages\n"
      ],
      "metadata": {
        "id": "gk4yOObgpk9c"
      }
    },
    {
      "cell_type": "code",
      "execution_count": 1,
      "metadata": {
        "id": "l-kN5TQtx8fG",
        "colab": {
          "base_uri": "https://localhost:8080/"
        },
        "outputId": "839d544c-02a5-433f-e707-5a16b6dc5c74",
        "collapsed": true
      },
      "outputs": [
        {
          "output_type": "stream",
          "name": "stdout",
          "text": [
            "Collecting biopython\n",
            "  Downloading biopython-1.85-cp311-cp311-manylinux_2_17_x86_64.manylinux2014_x86_64.whl.metadata (13 kB)\n",
            "Requirement already satisfied: numpy in /usr/local/lib/python3.11/dist-packages (from biopython) (2.0.2)\n",
            "Downloading biopython-1.85-cp311-cp311-manylinux_2_17_x86_64.manylinux2014_x86_64.whl (3.3 MB)\n",
            "\u001b[2K   \u001b[90m━━━━━━━━━━━━━━━━━━━━━━━━━━━━━━━━━━━━━━━━\u001b[0m \u001b[32m3.3/3.3 MB\u001b[0m \u001b[31m29.4 MB/s\u001b[0m eta \u001b[36m0:00:00\u001b[0m\n",
            "\u001b[?25hInstalling collected packages: biopython\n",
            "Successfully installed biopython-1.85\n",
            "Requirement already satisfied: ipywidgets in /usr/local/lib/python3.11/dist-packages (7.7.1)\n",
            "Requirement already satisfied: ipykernel>=4.5.1 in /usr/local/lib/python3.11/dist-packages (from ipywidgets) (6.17.1)\n",
            "Requirement already satisfied: ipython-genutils~=0.2.0 in /usr/local/lib/python3.11/dist-packages (from ipywidgets) (0.2.0)\n",
            "Requirement already satisfied: traitlets>=4.3.1 in /usr/local/lib/python3.11/dist-packages (from ipywidgets) (5.7.1)\n",
            "Requirement already satisfied: widgetsnbextension~=3.6.0 in /usr/local/lib/python3.11/dist-packages (from ipywidgets) (3.6.10)\n",
            "Requirement already satisfied: ipython>=4.0.0 in /usr/local/lib/python3.11/dist-packages (from ipywidgets) (7.34.0)\n",
            "Requirement already satisfied: jupyterlab-widgets>=1.0.0 in /usr/local/lib/python3.11/dist-packages (from ipywidgets) (3.0.15)\n",
            "Requirement already satisfied: debugpy>=1.0 in /usr/local/lib/python3.11/dist-packages (from ipykernel>=4.5.1->ipywidgets) (1.8.0)\n",
            "Requirement already satisfied: jupyter-client>=6.1.12 in /usr/local/lib/python3.11/dist-packages (from ipykernel>=4.5.1->ipywidgets) (6.1.12)\n",
            "Requirement already satisfied: matplotlib-inline>=0.1 in /usr/local/lib/python3.11/dist-packages (from ipykernel>=4.5.1->ipywidgets) (0.1.7)\n",
            "Requirement already satisfied: nest-asyncio in /usr/local/lib/python3.11/dist-packages (from ipykernel>=4.5.1->ipywidgets) (1.6.0)\n",
            "Requirement already satisfied: packaging in /usr/local/lib/python3.11/dist-packages (from ipykernel>=4.5.1->ipywidgets) (24.2)\n",
            "Requirement already satisfied: psutil in /usr/local/lib/python3.11/dist-packages (from ipykernel>=4.5.1->ipywidgets) (5.9.5)\n",
            "Requirement already satisfied: pyzmq>=17 in /usr/local/lib/python3.11/dist-packages (from ipykernel>=4.5.1->ipywidgets) (24.0.1)\n",
            "Requirement already satisfied: tornado>=6.1 in /usr/local/lib/python3.11/dist-packages (from ipykernel>=4.5.1->ipywidgets) (6.4.2)\n",
            "Requirement already satisfied: setuptools>=18.5 in /usr/local/lib/python3.11/dist-packages (from ipython>=4.0.0->ipywidgets) (75.2.0)\n",
            "Collecting jedi>=0.16 (from ipython>=4.0.0->ipywidgets)\n",
            "  Downloading jedi-0.19.2-py2.py3-none-any.whl.metadata (22 kB)\n",
            "Requirement already satisfied: decorator in /usr/local/lib/python3.11/dist-packages (from ipython>=4.0.0->ipywidgets) (4.4.2)\n",
            "Requirement already satisfied: pickleshare in /usr/local/lib/python3.11/dist-packages (from ipython>=4.0.0->ipywidgets) (0.7.5)\n",
            "Requirement already satisfied: prompt-toolkit!=3.0.0,!=3.0.1,<3.1.0,>=2.0.0 in /usr/local/lib/python3.11/dist-packages (from ipython>=4.0.0->ipywidgets) (3.0.51)\n",
            "Requirement already satisfied: pygments in /usr/local/lib/python3.11/dist-packages (from ipython>=4.0.0->ipywidgets) (2.19.2)\n",
            "Requirement already satisfied: backcall in /usr/local/lib/python3.11/dist-packages (from ipython>=4.0.0->ipywidgets) (0.2.0)\n",
            "Requirement already satisfied: pexpect>4.3 in /usr/local/lib/python3.11/dist-packages (from ipython>=4.0.0->ipywidgets) (4.9.0)\n",
            "Requirement already satisfied: notebook>=4.4.1 in /usr/local/lib/python3.11/dist-packages (from widgetsnbextension~=3.6.0->ipywidgets) (6.5.7)\n",
            "Requirement already satisfied: parso<0.9.0,>=0.8.4 in /usr/local/lib/python3.11/dist-packages (from jedi>=0.16->ipython>=4.0.0->ipywidgets) (0.8.4)\n",
            "Requirement already satisfied: jupyter-core>=4.6.0 in /usr/local/lib/python3.11/dist-packages (from jupyter-client>=6.1.12->ipykernel>=4.5.1->ipywidgets) (5.8.1)\n",
            "Requirement already satisfied: python-dateutil>=2.1 in /usr/local/lib/python3.11/dist-packages (from jupyter-client>=6.1.12->ipykernel>=4.5.1->ipywidgets) (2.9.0.post0)\n",
            "Requirement already satisfied: jinja2 in /usr/local/lib/python3.11/dist-packages (from notebook>=4.4.1->widgetsnbextension~=3.6.0->ipywidgets) (3.1.6)\n",
            "Requirement already satisfied: argon2-cffi in /usr/local/lib/python3.11/dist-packages (from notebook>=4.4.1->widgetsnbextension~=3.6.0->ipywidgets) (25.1.0)\n",
            "Requirement already satisfied: nbformat in /usr/local/lib/python3.11/dist-packages (from notebook>=4.4.1->widgetsnbextension~=3.6.0->ipywidgets) (5.10.4)\n",
            "Requirement already satisfied: nbconvert>=5 in /usr/local/lib/python3.11/dist-packages (from notebook>=4.4.1->widgetsnbextension~=3.6.0->ipywidgets) (7.16.6)\n",
            "Requirement already satisfied: Send2Trash>=1.8.0 in /usr/local/lib/python3.11/dist-packages (from notebook>=4.4.1->widgetsnbextension~=3.6.0->ipywidgets) (1.8.3)\n",
            "Requirement already satisfied: terminado>=0.8.3 in /usr/local/lib/python3.11/dist-packages (from notebook>=4.4.1->widgetsnbextension~=3.6.0->ipywidgets) (0.18.1)\n",
            "Requirement already satisfied: prometheus-client in /usr/local/lib/python3.11/dist-packages (from notebook>=4.4.1->widgetsnbextension~=3.6.0->ipywidgets) (0.22.1)\n",
            "Requirement already satisfied: nbclassic>=0.4.7 in /usr/local/lib/python3.11/dist-packages (from notebook>=4.4.1->widgetsnbextension~=3.6.0->ipywidgets) (1.3.1)\n",
            "Requirement already satisfied: ptyprocess>=0.5 in /usr/local/lib/python3.11/dist-packages (from pexpect>4.3->ipython>=4.0.0->ipywidgets) (0.7.0)\n",
            "Requirement already satisfied: wcwidth in /usr/local/lib/python3.11/dist-packages (from prompt-toolkit!=3.0.0,!=3.0.1,<3.1.0,>=2.0.0->ipython>=4.0.0->ipywidgets) (0.2.13)\n",
            "Requirement already satisfied: platformdirs>=2.5 in /usr/local/lib/python3.11/dist-packages (from jupyter-core>=4.6.0->jupyter-client>=6.1.12->ipykernel>=4.5.1->ipywidgets) (4.3.8)\n",
            "Requirement already satisfied: notebook-shim>=0.2.3 in /usr/local/lib/python3.11/dist-packages (from nbclassic>=0.4.7->notebook>=4.4.1->widgetsnbextension~=3.6.0->ipywidgets) (0.2.4)\n",
            "Requirement already satisfied: beautifulsoup4 in /usr/local/lib/python3.11/dist-packages (from nbconvert>=5->notebook>=4.4.1->widgetsnbextension~=3.6.0->ipywidgets) (4.13.4)\n",
            "Requirement already satisfied: bleach!=5.0.0 in /usr/local/lib/python3.11/dist-packages (from bleach[css]!=5.0.0->nbconvert>=5->notebook>=4.4.1->widgetsnbextension~=3.6.0->ipywidgets) (6.2.0)\n",
            "Requirement already satisfied: defusedxml in /usr/local/lib/python3.11/dist-packages (from nbconvert>=5->notebook>=4.4.1->widgetsnbextension~=3.6.0->ipywidgets) (0.7.1)\n",
            "Requirement already satisfied: jupyterlab-pygments in /usr/local/lib/python3.11/dist-packages (from nbconvert>=5->notebook>=4.4.1->widgetsnbextension~=3.6.0->ipywidgets) (0.3.0)\n",
            "Requirement already satisfied: markupsafe>=2.0 in /usr/local/lib/python3.11/dist-packages (from nbconvert>=5->notebook>=4.4.1->widgetsnbextension~=3.6.0->ipywidgets) (3.0.2)\n",
            "Requirement already satisfied: mistune<4,>=2.0.3 in /usr/local/lib/python3.11/dist-packages (from nbconvert>=5->notebook>=4.4.1->widgetsnbextension~=3.6.0->ipywidgets) (3.1.3)\n",
            "Requirement already satisfied: nbclient>=0.5.0 in /usr/local/lib/python3.11/dist-packages (from nbconvert>=5->notebook>=4.4.1->widgetsnbextension~=3.6.0->ipywidgets) (0.10.2)\n",
            "Requirement already satisfied: pandocfilters>=1.4.1 in /usr/local/lib/python3.11/dist-packages (from nbconvert>=5->notebook>=4.4.1->widgetsnbextension~=3.6.0->ipywidgets) (1.5.1)\n",
            "Requirement already satisfied: fastjsonschema>=2.15 in /usr/local/lib/python3.11/dist-packages (from nbformat->notebook>=4.4.1->widgetsnbextension~=3.6.0->ipywidgets) (2.21.1)\n",
            "Requirement already satisfied: jsonschema>=2.6 in /usr/local/lib/python3.11/dist-packages (from nbformat->notebook>=4.4.1->widgetsnbextension~=3.6.0->ipywidgets) (4.24.0)\n",
            "Requirement already satisfied: six>=1.5 in /usr/local/lib/python3.11/dist-packages (from python-dateutil>=2.1->jupyter-client>=6.1.12->ipykernel>=4.5.1->ipywidgets) (1.17.0)\n",
            "Requirement already satisfied: argon2-cffi-bindings in /usr/local/lib/python3.11/dist-packages (from argon2-cffi->notebook>=4.4.1->widgetsnbextension~=3.6.0->ipywidgets) (21.2.0)\n",
            "Requirement already satisfied: webencodings in /usr/local/lib/python3.11/dist-packages (from bleach!=5.0.0->bleach[css]!=5.0.0->nbconvert>=5->notebook>=4.4.1->widgetsnbextension~=3.6.0->ipywidgets) (0.5.1)\n",
            "Requirement already satisfied: tinycss2<1.5,>=1.1.0 in /usr/local/lib/python3.11/dist-packages (from bleach[css]!=5.0.0->nbconvert>=5->notebook>=4.4.1->widgetsnbextension~=3.6.0->ipywidgets) (1.4.0)\n",
            "Requirement already satisfied: attrs>=22.2.0 in /usr/local/lib/python3.11/dist-packages (from jsonschema>=2.6->nbformat->notebook>=4.4.1->widgetsnbextension~=3.6.0->ipywidgets) (25.3.0)\n",
            "Requirement already satisfied: jsonschema-specifications>=2023.03.6 in /usr/local/lib/python3.11/dist-packages (from jsonschema>=2.6->nbformat->notebook>=4.4.1->widgetsnbextension~=3.6.0->ipywidgets) (2025.4.1)\n",
            "Requirement already satisfied: referencing>=0.28.4 in /usr/local/lib/python3.11/dist-packages (from jsonschema>=2.6->nbformat->notebook>=4.4.1->widgetsnbextension~=3.6.0->ipywidgets) (0.36.2)\n",
            "Requirement already satisfied: rpds-py>=0.7.1 in /usr/local/lib/python3.11/dist-packages (from jsonschema>=2.6->nbformat->notebook>=4.4.1->widgetsnbextension~=3.6.0->ipywidgets) (0.25.1)\n",
            "Requirement already satisfied: jupyter-server<3,>=1.8 in /usr/local/lib/python3.11/dist-packages (from notebook-shim>=0.2.3->nbclassic>=0.4.7->notebook>=4.4.1->widgetsnbextension~=3.6.0->ipywidgets) (1.16.0)\n",
            "Requirement already satisfied: cffi>=1.0.1 in /usr/local/lib/python3.11/dist-packages (from argon2-cffi-bindings->argon2-cffi->notebook>=4.4.1->widgetsnbextension~=3.6.0->ipywidgets) (1.17.1)\n",
            "Requirement already satisfied: soupsieve>1.2 in /usr/local/lib/python3.11/dist-packages (from beautifulsoup4->nbconvert>=5->notebook>=4.4.1->widgetsnbextension~=3.6.0->ipywidgets) (2.7)\n",
            "Requirement already satisfied: typing-extensions>=4.0.0 in /usr/local/lib/python3.11/dist-packages (from beautifulsoup4->nbconvert>=5->notebook>=4.4.1->widgetsnbextension~=3.6.0->ipywidgets) (4.14.0)\n",
            "Requirement already satisfied: pycparser in /usr/local/lib/python3.11/dist-packages (from cffi>=1.0.1->argon2-cffi-bindings->argon2-cffi->notebook>=4.4.1->widgetsnbextension~=3.6.0->ipywidgets) (2.22)\n",
            "Requirement already satisfied: anyio>=3.1.0 in /usr/local/lib/python3.11/dist-packages (from jupyter-server<3,>=1.8->notebook-shim>=0.2.3->nbclassic>=0.4.7->notebook>=4.4.1->widgetsnbextension~=3.6.0->ipywidgets) (4.9.0)\n",
            "Requirement already satisfied: websocket-client in /usr/local/lib/python3.11/dist-packages (from jupyter-server<3,>=1.8->notebook-shim>=0.2.3->nbclassic>=0.4.7->notebook>=4.4.1->widgetsnbextension~=3.6.0->ipywidgets) (1.8.0)\n",
            "Requirement already satisfied: idna>=2.8 in /usr/local/lib/python3.11/dist-packages (from anyio>=3.1.0->jupyter-server<3,>=1.8->notebook-shim>=0.2.3->nbclassic>=0.4.7->notebook>=4.4.1->widgetsnbextension~=3.6.0->ipywidgets) (3.10)\n",
            "Requirement already satisfied: sniffio>=1.1 in /usr/local/lib/python3.11/dist-packages (from anyio>=3.1.0->jupyter-server<3,>=1.8->notebook-shim>=0.2.3->nbclassic>=0.4.7->notebook>=4.4.1->widgetsnbextension~=3.6.0->ipywidgets) (1.3.1)\n",
            "Downloading jedi-0.19.2-py2.py3-none-any.whl (1.6 MB)\n",
            "\u001b[2K   \u001b[90m━━━━━━━━━━━━━━━━━━━━━━━━━━━━━━━━━━━━━━━━\u001b[0m \u001b[32m1.6/1.6 MB\u001b[0m \u001b[31m17.9 MB/s\u001b[0m eta \u001b[36m0:00:00\u001b[0m\n",
            "\u001b[?25hInstalling collected packages: jedi\n",
            "Successfully installed jedi-0.19.2\n"
          ]
        }
      ],
      "source": [
        "# Always Run this cell first to install required packages!\n",
        "!pip install biopython\n",
        "\n",
        "from Bio import SeqIO\n",
        "import pandas as pd\n",
        "import matplotlib.pyplot as plt\n",
        "from google.colab import files\n",
        "\n",
        "#for UI\n",
        "!pip install ipywidgets\n",
        "import ipywidgets as widgets\n",
        "from IPython.display import display, clear_output"
      ]
    },
    {
      "cell_type": "markdown",
      "source": [
        "2. Functions for Calculation of G-C content."
      ],
      "metadata": {
        "id": "rXRiCniYqGN7"
      }
    },
    {
      "cell_type": "code",
      "source": [
        "#For calculating GC content\n",
        "def GC_content(sequence):\n",
        "  sequence = sequence.upper()\n",
        "  filter_sequence = sequence.replace(\"N\",\"\")\n",
        "  GC_content = round((((sequence.count('G')+sequence.count('C'))/len(filter_sequence))*100) , 2)\n",
        "  return GC_content\n"
      ],
      "metadata": {
        "id": "LFBpVJBgnjtZ"
      },
      "execution_count": 2,
      "outputs": []
    },
    {
      "cell_type": "markdown",
      "source": [
        "3. Function for Estimation of Melting Temperature .\n",
        "\n",
        "- Note: The melting temperature is calculated using the Wallace rule, which is only reliable for sequences shorter than approximately 20 nucleotides.\n",
        "\n",
        "- If a sequence exceeds this length, the program will display 'Not Valid' as the melting temperature."
      ],
      "metadata": {
        "id": "PRCTMzfjqU1r"
      }
    },
    {
      "cell_type": "code",
      "source": [
        "#Melting temperature Estimation by Wallace Rule !\n",
        "def Melting_temp(sequence):\n",
        "  sequence = sequence.upper()\n",
        "\n",
        "  A = sequence.count('A')\n",
        "  T = sequence.count('T')\n",
        "  G = sequence.count('G')\n",
        "  C = sequence.count('C')\n",
        "\n",
        "  Total = A+T+C+G\n",
        "\n",
        "  if Total <= 20:\n",
        "    Tm = ((2 * (A + T)) + (4 * (G+C)))\n",
        "\n",
        "  else:\n",
        "    Tm = \"Not Valid\"\n",
        "  return Tm\n"
      ],
      "metadata": {
        "id": "OhtnuIUK6DMo"
      },
      "execution_count": 3,
      "outputs": []
    },
    {
      "cell_type": "markdown",
      "source": [
        "4. Function for Analyzing DNA Sequence Input - In form of Text"
      ],
      "metadata": {
        "id": "c4kpbjOrqvuS"
      }
    },
    {
      "cell_type": "code",
      "source": [
        "#For Raw DNA Analyses - text input\n",
        "def Raw_DNA_cmd(sequence):\n",
        "    Correct_Error = sequence.strip().replace(\" \", \"\").upper()\n",
        "    return [{\n",
        "        'ID': 'User_Input',\n",
        "        'Total Length': len(Correct_Error),\n",
        "        'Unknown Nucleotide (N)':Correct_Error.count(\"N\") ,\n",
        "        'GC Content (%)': GC_content(Correct_Error),\n",
        "        'Melting Temp(°C)': Melting_temp(Correct_Error),\n",
        "        'A': Correct_Error.count(\"A\"),\n",
        "        'T': Correct_Error.count(\"T\"),\n",
        "        'G': Correct_Error.count(\"G\"),\n",
        "        'C': Correct_Error.count(\"C\")\n",
        "    }]\n"
      ],
      "metadata": {
        "id": "uK7Mq-HFuREg"
      },
      "execution_count": 4,
      "outputs": []
    },
    {
      "cell_type": "markdown",
      "source": [
        "5. Function for Analyzing DNA Sequence Input - In form of FASTA File"
      ],
      "metadata": {
        "id": "CRcaXQJQrETJ"
      }
    },
    {
      "cell_type": "code",
      "source": [
        "# For FASTA file input - fASTA file may contain single sequence or multiple sequence .\n",
        "def FASTA_File_cmd(file_path):\n",
        "    results = []\n",
        "    for record in SeqIO.parse(file_path, \"fasta\"):\n",
        "        seq = str(record.seq).strip().upper()\n",
        "        results.append({\n",
        "            'ID': record.id,\n",
        "            'Total Length': len(seq),\n",
        "            'Unknown Nucleotide(N)':seq.count(\"N\") , #removing unknown nucleotide if present\n",
        "            'GC Content (%)': GC_content(seq),\n",
        "            'Melting Temp (°C)': Melting_temp(seq),\n",
        "            'A': seq.count(\"A\"),\n",
        "            'T': seq.count(\"T\"),\n",
        "            'G': seq.count(\"G\"),\n",
        "            'C': seq.count(\"C\")\n",
        "        })\n",
        "    return results"
      ],
      "metadata": {
        "id": "41yn9zfvIoHV"
      },
      "execution_count": 5,
      "outputs": []
    },
    {
      "cell_type": "markdown",
      "source": [
        "6. Function for Graphical Representation of Results."
      ],
      "metadata": {
        "id": "lOlRDW_hsB_A"
      }
    },
    {
      "cell_type": "code",
      "source": [
        "#graphical representation\n",
        "def plot_distribution(results):\n",
        "    df = pd.DataFrame(results)\n",
        "\n",
        "    if len(df) == 1:\n",
        "        #For single sequence\n",
        "        counts = df[['A', 'T', 'G', 'C']].iloc[0]\n",
        "        print(\"  \\nGraphical representation of individual nucleotide frequencies in the analyzed DNA sequence: \\n  \")\n",
        "        plt.figure(figsize=(6, 5))\n",
        "        bars = plt.bar(counts.index, counts.values, color=['#1f77b4', '#ff7f0e', '#2ca02c', '#d62728'])\n",
        "        plt.title(f\"Nucleotide Count for {df['ID'].iloc[0]}\")\n",
        "        plt.xlabel(\"Nucleotides\")\n",
        "        plt.ylabel(\"Count\")\n",
        "        plt.grid(axis='y', linestyle='--', alpha=0.5)\n",
        "        for bar in bars:\n",
        "            yval = bar.get_height()\n",
        "            plt.text(bar.get_x() + 0.1, yval + 1, int(yval))\n",
        "        plt.tight_layout()\n",
        "        plt.show()\n",
        "\n",
        "    else:\n",
        "        #For Multiple sequences , Incase of FASTA File\n",
        "        #A T G C  Composition Across Sequences\n",
        "        bases = ['A', 'T', 'G', 'C']\n",
        "        x = range(len(bases))\n",
        "        width = 0.15\n",
        "\n",
        "        print(\"  \\nInter-sequence comparison of nucleotide frequencies presented graphically: \\n  \")\n",
        "        plt.figure(figsize=(10, 6))\n",
        "        for idx, row in df.iterrows():\n",
        "            offset = (idx - len(analysis_result)/2) * width\n",
        "            plt.bar([i + offset for i in x],\n",
        "                    row[bases],\n",
        "                    width=width,\n",
        "                    label=row['ID'])\n",
        "\n",
        "        plt.xticks(x, bases)\n",
        "        plt.xlabel(\"Nucleotides\")\n",
        "        plt.ylabel(\"Count\")\n",
        "        plt.title(\"Bar Plot Representing Nucleotide Counts for Each Sequence\")\n",
        "        plt.legend(title=\"Sequence ID\")\n",
        "        plt.grid(axis='y', linestyle='--', alpha=0.5)\n",
        "        plt.tight_layout()\n",
        "        plt.show()\n",
        "\n",
        "        print(\" \\nBar graph representing the GC content of each DNA sequence included in the analysis:  \\n  \")\n",
        "            #GC Content Plot\n",
        "        plt.figure(figsize=(10, 5))\n",
        "        bars = plt.bar(df['ID'], df['GC Content (%)'], color='mediumseagreen')\n",
        "        for bar in bars:\n",
        "            height = bar.get_height()\n",
        "            plt.text(bar.get_x() + bar.get_width()/2, height + 1, f\"{height:.2f}%\",\n",
        "                     ha='center', va='bottom', fontsize=9)\n",
        "        plt.title(\"GC Content (%) of Sequences\")\n",
        "        plt.xlabel(\"Sequence ID\")\n",
        "        plt.ylabel(\"GC Content (%)\")\n",
        "        plt.ylim(0, 100)\n",
        "        plt.grid(axis='y', linestyle='--', alpha=0.4)\n",
        "        plt.xticks(rotation=45, ha='right')\n",
        "        plt.tight_layout()\n",
        "        plt.show()\n"
      ],
      "metadata": {
        "id": "1givy_bPCbyC"
      },
      "execution_count": 6,
      "outputs": []
    },
    {
      "cell_type": "markdown",
      "source": [
        "7. Function for Exporting the Results in form of CSV File."
      ],
      "metadata": {
        "id": "V6jhVUuVszNX"
      }
    },
    {
      "cell_type": "code",
      "source": [
        "# Export to CSV\n",
        "def export_results(results):\n",
        "    df = pd.DataFrame(results)\n",
        "    df.to_csv(\"G-C Content Analysis.csv\", index=False)\n",
        "    files.download(\"G-C Content Analysis.csv\")"
      ],
      "metadata": {
        "id": "kmyIWNRxCLEL"
      },
      "execution_count": 7,
      "outputs": []
    },
    {
      "cell_type": "markdown",
      "source": [
        "8. Function For GUI Using ipywidgets."
      ],
      "metadata": {
        "id": "K2aXFAcrs89n"
      }
    },
    {
      "cell_type": "code",
      "source": [
        "#Global state variable\n",
        "selected_input_type = None\n",
        "uploaded_file = None\n",
        "raw_sequence = None\n",
        "analysis_result = []\n",
        "\n",
        "#Buttons\n",
        "fasta_btn = widgets.Button(description=\"FASTA Sequence\", button_style='info')\n",
        "raw_btn = widgets.Button(description=\"Raw DNA Sequence\", button_style='info')\n",
        "analyze_button = widgets.Button(description=\"Analyze\", button_style='success')\n",
        "download_button = widgets.Button(description=\"Download CSV\", button_style='warning')\n",
        "\n",
        "#Widgets\n",
        "dna_input_widget = widgets.Textarea(\n",
        "    placeholder='Enter raw DNA sequence here...only one DNA sequence',\n",
        "    description='DNA Seq:',\n",
        "    layout=widgets.Layout(width='100%', height='100px')\n",
        ")\n",
        "input_area = widgets.Output()\n",
        "analysis_output = widgets.Output()\n",
        "\n",
        "#Define Functions\n",
        "\n",
        "def show_input_widget(input_type):\n",
        "    global selected_input_type, uploaded_file\n",
        "    selected_input_type = input_type\n",
        "    input_area.clear_output()\n",
        "    uploaded_file = None  # Reset\n",
        "\n",
        "    with input_area:\n",
        "        if input_type == 'fasta':\n",
        "            upload = files.upload()\n",
        "            uploaded_file = list(upload.keys())[0]\n",
        "            print(f\"File uploaded: {uploaded_file}\")\n",
        "        elif input_type == 'raw':\n",
        "            display(dna_input_widget)\n",
        "\n",
        "def analyze_sequences(b):\n",
        "    global analysis_result, uploaded_file, raw_sequence\n",
        "\n",
        "    analysis_output.clear_output()\n",
        "\n",
        "    with analysis_output:\n",
        "        if selected_input_type == 'fasta':\n",
        "            if uploaded_file:\n",
        "                analysis_result = FASTA_File_cmd(uploaded_file)\n",
        "            else:\n",
        "                print(\"No file uploaded.\")\n",
        "                return\n",
        "        elif selected_input_type == 'raw':\n",
        "            raw_sequence = dna_input_widget.value.strip()\n",
        "            if raw_sequence:\n",
        "                analysis_result = Raw_DNA_cmd(raw_sequence)\n",
        "            else:\n",
        "                print(\"No DNA sequence entered.\")\n",
        "                return\n",
        "        else:\n",
        "            print(\"Please select an input type.\")\n",
        "            return\n",
        "\n",
        "        df = pd.DataFrame(analysis_result)\n",
        "        display(df)\n",
        "        plot_distribution(analysis_result)\n",
        "\n",
        "def download_csv(b):\n",
        "    if analysis_result:\n",
        "        export_results(analysis_result)\n",
        "\n",
        "#On Click functions\n",
        "fasta_btn.on_click(lambda b: show_input_widget('fasta'))\n",
        "raw_btn.on_click(lambda b: show_input_widget('raw'))\n",
        "analyze_button.on_click(analyze_sequences)\n",
        "download_button.on_click(download_csv)\n",
        "\n",
        "#Display Everything !\n",
        "print(\"\\033[1;34mDNA G-C Content Analysis\\033[0m\")\n",
        "display(widgets.HBox([fasta_btn, raw_btn]))\n",
        "display(input_area)\n",
        "display(analyze_button)\n",
        "display(download_button)\n",
        "display(analysis_output)"
      ],
      "metadata": {
        "colab": {
          "base_uri": "https://localhost:8080/",
          "height": 860,
          "referenced_widgets": [
            "1bd8b5251c5546b9a9dc2587b31df3c5",
            "ca1495d9441f4ff78b63d06a1a260f0f",
            "8ada04c4e48e4606a1a381b4d9c97b8b",
            "71c59815e35e4936b78412e673f2aa8b",
            "5b46ef2f1b0d423bb339ef93e45c8712",
            "4808e7982d704accb98e48542152b65a",
            "4b6b922b800d48a687ea44c3488cad7f",
            "79fa90ba289d4064a1b4f1b5f264a0c6",
            "222f579151084806a0daf8599d1299e8",
            "e1ef34c0f6cd4bbeba2a7830c19f0e52",
            "91d9298c49214ff3803d807031289c74",
            "1ee44578de0147ab93bb2c2e6ed42fe0",
            "21d9aa18f76d48d99554fcb32fbe9c5c",
            "12803318f2da48b4873fdb016ca968ec",
            "332e41724ba84515b1021f67537bc5b5",
            "a4b38d9b620c4d60b18ff31b509b813a",
            "e441524225de4ee2b240adc6aa203d84",
            "43cfab796dce45c680d90b06ce27f1f5",
            "e835d4b2ac3446b4817bc15cdad64d60",
            "7a966ef8485d4e76b2b6b15dcd6da41e",
            "ef42cf3c2c274df2bf7dddf2653cbc30"
          ]
        },
        "collapsed": true,
        "id": "yMxUYIBwm3fH",
        "outputId": "97710933-d7cb-4c84-e42a-8542f4aada1a"
      },
      "execution_count": 8,
      "outputs": [
        {
          "output_type": "stream",
          "name": "stdout",
          "text": [
            "\u001b[1;34mDNA G-C Content Analysis\u001b[0m\n"
          ]
        },
        {
          "output_type": "display_data",
          "data": {
            "text/plain": [
              "HBox(children=(Button(button_style='info', description='FASTA Sequence', style=ButtonStyle()), Button(button_s…"
            ],
            "application/vnd.jupyter.widget-view+json": {
              "version_major": 2,
              "version_minor": 0,
              "model_id": "1bd8b5251c5546b9a9dc2587b31df3c5"
            }
          },
          "metadata": {}
        },
        {
          "output_type": "display_data",
          "data": {
            "text/plain": [
              "Output()"
            ],
            "application/vnd.jupyter.widget-view+json": {
              "version_major": 2,
              "version_minor": 0,
              "model_id": "222f579151084806a0daf8599d1299e8"
            }
          },
          "metadata": {}
        },
        {
          "output_type": "display_data",
          "data": {
            "text/plain": [
              "Button(button_style='success', description='Analyze', style=ButtonStyle())"
            ],
            "application/vnd.jupyter.widget-view+json": {
              "version_major": 2,
              "version_minor": 0,
              "model_id": "91d9298c49214ff3803d807031289c74"
            }
          },
          "metadata": {}
        },
        {
          "output_type": "display_data",
          "data": {
            "text/plain": [
              "Button(button_style='warning', description='Download CSV', style=ButtonStyle())"
            ],
            "application/vnd.jupyter.widget-view+json": {
              "version_major": 2,
              "version_minor": 0,
              "model_id": "12803318f2da48b4873fdb016ca968ec"
            }
          },
          "metadata": {}
        },
        {
          "output_type": "display_data",
          "data": {
            "text/plain": [
              "Output()"
            ],
            "application/vnd.jupyter.widget-view+json": {
              "version_major": 2,
              "version_minor": 0,
              "model_id": "e441524225de4ee2b240adc6aa203d84"
            }
          },
          "metadata": {}
        },
        {
          "output_type": "display_data",
          "data": {
            "text/plain": [
              "<IPython.core.display.Javascript object>"
            ],
            "application/javascript": [
              "\n",
              "    async function download(id, filename, size) {\n",
              "      if (!google.colab.kernel.accessAllowed) {\n",
              "        return;\n",
              "      }\n",
              "      const div = document.createElement('div');\n",
              "      const label = document.createElement('label');\n",
              "      label.textContent = `Downloading \"${filename}\": `;\n",
              "      div.appendChild(label);\n",
              "      const progress = document.createElement('progress');\n",
              "      progress.max = size;\n",
              "      div.appendChild(progress);\n",
              "      document.body.appendChild(div);\n",
              "\n",
              "      const buffers = [];\n",
              "      let downloaded = 0;\n",
              "\n",
              "      const channel = await google.colab.kernel.comms.open(id);\n",
              "      // Send a message to notify the kernel that we're ready.\n",
              "      channel.send({})\n",
              "\n",
              "      for await (const message of channel.messages) {\n",
              "        // Send a message to notify the kernel that we're ready.\n",
              "        channel.send({})\n",
              "        if (message.buffers) {\n",
              "          for (const buffer of message.buffers) {\n",
              "            buffers.push(buffer);\n",
              "            downloaded += buffer.byteLength;\n",
              "            progress.value = downloaded;\n",
              "          }\n",
              "        }\n",
              "      }\n",
              "      const blob = new Blob(buffers, {type: 'application/binary'});\n",
              "      const a = document.createElement('a');\n",
              "      a.href = window.URL.createObjectURL(blob);\n",
              "      a.download = filename;\n",
              "      div.appendChild(a);\n",
              "      a.click();\n",
              "      div.remove();\n",
              "    }\n",
              "  "
            ]
          },
          "metadata": {}
        },
        {
          "output_type": "display_data",
          "data": {
            "text/plain": [
              "<IPython.core.display.Javascript object>"
            ],
            "application/javascript": [
              "download(\"download_5a91a3e9-17ae-4648-8443-2c7d714eb122\", \"G-C Content Analysis.csv\", 245)"
            ]
          },
          "metadata": {}
        }
      ]
    },
    {
      "cell_type": "code",
      "source": [],
      "metadata": {
        "id": "F-GBVpdb2xsh"
      },
      "execution_count": 8,
      "outputs": []
    }
  ]
}